{
 "cells": [
  {
   "cell_type": "code",
   "execution_count": 10,
   "metadata": {},
   "outputs": [],
   "source": [
    "from typing import Optional, Tuple\n",
    "import numpy as np"
   ]
  },
  {
   "cell_type": "markdown",
   "metadata": {},
   "source": [
    "### Zadanie rozgrzewkowe:\n",
    "Napisać mnożenie macierzy w ulubionym** języku programowania.\n",
    "\n",
    "Pytanko: jakie muszą być wymiary mnożonych macierzy? (Który wymiar musi się \"zgadzać\"?)\n",
    "\n",
    "Zadanko: Uzupełnić brakujące wymiary macierzy w docstringu (z dokładnością do \"alfa-konwersji\")"
   ]
  },
  {
   "cell_type": "code",
   "execution_count": 11,
   "metadata": {},
   "outputs": [
    {
     "data": {
      "text/plain": [
       "True"
      ]
     },
     "execution_count": 11,
     "metadata": {},
     "output_type": "execute_result"
    }
   ],
   "source": [
    "def agh_superfast_matrix_multiply(a: np.matrix, b: np.matrix) -> np.matrix:\n",
    "    \"\"\"Perform totally ordinary multiplication of matrices.\n",
    "    :param a: matrix with dimensions n by m\n",
    "    :param b: matrix with dimensions m by p\n",
    "    :return:  matrix with dimensions n by p\n",
    "    \"\"\"\n",
    "    n = a.shape[0]\n",
    "    m = a.shape[1]\n",
    "    p = b.shape[1]\n",
    "    c = np.zeros((n,p))\n",
    "    \n",
    "    for i in range(0,n):\n",
    "        for j in range(0,p):\n",
    "            for k in range(0,m):\n",
    "                c[i,j] += a[i,k] * b[k,j]\n",
    "    return c\n",
    "    pass\n",
    "\n",
    "m1 = np.matrix([[1, 2],\n",
    "                [3, 4],\n",
    "                [4, 5],\n",
    "                [5, 1]])\n",
    "\n",
    "m2 = np.matrix([[1, 2, 3],\n",
    "                [4, 5, 6]])\n",
    "\n",
    "res = agh_superfast_matrix_multiply(m1, m2)\n",
    "np.allclose(res, m1 * m2)\n",
    "#assert np.allclose(res, m1 * m2), \"Wrong multiplication result\""
   ]
  },
  {
   "cell_type": "markdown",
   "metadata": {},
   "source": [
    "### Zadania\n",
    "1. Przeczytać rozdz. 7. Kincaida i Cheney'a (Systems of Linear Equations).\n",
    "2. Przeczytać rozdz. 8. Kincaida i Cheney'a (Additional Topics Concerning Systems of Linear Equations).\n",
    "3. Napisać kod (w ulubionym** języku) do eliminacji Gaussa z i bez pivotingu.\n",
    "4. Rozwiązać poniższy układ równań z pivotingiem i bez, porównać wyniki"
   ]
  },
  {
   "cell_type": "markdown",
   "metadata": {},
   "source": [
    "#### Gauss bez pivotingu"
   ]
  },
  {
   "cell_type": "code",
   "execution_count": 12,
   "metadata": {},
   "outputs": [],
   "source": [
    "def naive_gauss(a, b):\n",
    "    \"\"\"Perform naive Gauss algorithm to solve system of linear equations\n",
    "    :param a: matrix with dimensions n by n\n",
    "    :param b: matrix with dimensions 1 by n\n",
    "    :return:  matrix with dimensions 1 by n\n",
    "    \"\"\"\n",
    "    n = a.shape[0]\n",
    "    x = np.zeros(n)\n",
    "    \n",
    "    for k in range(0,n):\n",
    "        for i in range(k+1,n):\n",
    "            xmult = a[i,k] / a[k,k]\n",
    "            a[i,k] = xmult\n",
    "            for j in range(k+1,n):\n",
    "                a[i,j] = a[i,j] - xmult * a[k,j]\n",
    "            b[i] = b[i] - xmult * b[k]\n",
    "    x[n-1] = b[n-1] / a[n-1,n-1]\n",
    "    for i in range(n-1,-1,-1):\n",
    "        sum = b[i]\n",
    "        for j in range(i+1,n):\n",
    "            sum = sum - a[i,j] * x[j]\n",
    "        x[i] = sum / a[i,i]\n",
    "    return np.matrix(x).transpose()\n",
    "    pass"
   ]
  },
  {
   "cell_type": "code",
   "execution_count": 18,
   "metadata": {},
   "outputs": [
    {
     "name": "stdout",
     "output_type": "stream",
     "text": [
      "[[ 0.21602477]\n",
      " [-0.00791511]\n",
      " [ 0.63524333]\n",
      " [ 0.74617428]]\n"
     ]
    },
    {
     "data": {
      "text/plain": [
       "True"
      ]
     },
     "execution_count": 18,
     "metadata": {},
     "output_type": "execute_result"
    }
   ],
   "source": [
    "A = np.matrix([[0.0001, -5.0300, 5.8090, 7.8320],\n",
    "               [2.2660, 1.9950,  1.2120, 8.0080],\n",
    "               [8.8500, 5.6810,  4.5520, 1.3020],\n",
    "               [6.7750, -2.253,  2.9080, 3.9700]])\n",
    "\n",
    "b = np.matrix([9.5740, 7.2190, 5.7300, 6.2910]).transpose()\n",
    "x1 = np.linalg.solve(A, b)\n",
    "x = naive_gauss(A, b)\n",
    "print(x)\n",
    "np.allclose(x1, x)"
   ]
  },
  {
   "cell_type": "markdown",
   "metadata": {},
   "source": [
    "Pytanie: dlaczego wołamy `transpose()` na wektorze `b`? odp.: żeby mieć wektor kolumnowy\n",
    "\n",
    "Sprawdźmy, czy rozwiązanie jest ok \n",
    "\n",
    "(Pytanie': dlaczego po prostu nie użyjemy `==` lub jakiegoś `equals`?) odp.: niedokładność reprezentacji liczb zmiennoprzecinkowych"
   ]
  },
  {
   "cell_type": "code",
   "execution_count": 14,
   "metadata": {},
   "outputs": [
    {
     "data": {
      "text/plain": [
       "True"
      ]
     },
     "execution_count": 14,
     "metadata": {},
     "output_type": "execute_result"
    }
   ],
   "source": [
    "A = np.matrix([[0.0001, -5.0300, 5.8090, 7.8320],\n",
    "               [2.2660, 1.9950,  1.2120, 8.0080],\n",
    "               [8.8500, 5.6810,  4.5520, 1.3020],\n",
    "               [6.7750, -2.253,  2.9080, 3.9700]])\n",
    "\n",
    "b = np.matrix([9.5740, 7.2190, 5.7300, 6.2910]).transpose()\n",
    "\n",
    "np.allclose(np.dot(A, x), b)"
   ]
  },
  {
   "cell_type": "markdown",
   "metadata": {},
   "source": [
    "#### Gauss z pivotingiem "
   ]
  },
  {
   "cell_type": "code",
   "execution_count": 15,
   "metadata": {},
   "outputs": [],
   "source": [
    "def pivot_gauss(a, b):\n",
    "    \"\"\"Perform pivot Gauss algorithm to solve system of linear equations\n",
    "    :param a: matrix with dimensions n by n\n",
    "    :param b: matrix with dimensions 1 by n\n",
    "    :return:  matrix with dimensions 1 by n\n",
    "    \"\"\"\n",
    "    n = a.shape[0]\n",
    "    x = np.zeros(n)\n",
    "    s = np.zeros(n)\n",
    "    d = np.zeros(n, dtype=np.int)\n",
    "    \n",
    "    for i in range(0,n):\n",
    "        d[i] = i\n",
    "        smax = 0\n",
    "        for j in range(0,n):\n",
    "            smax = max(smax, abs(a[i,j]))\n",
    "        s[i] = smax\n",
    "        \n",
    "    for k in range(0,n-1):\n",
    "        rmax = 0\n",
    "        for i in range(k,n):\n",
    "            r = abs(a[d[i],k] / s[d[i]])\n",
    "            if r > rmax:\n",
    "                rmax = r\n",
    "                j = i\n",
    "        tmp = d[j]\n",
    "        d[j] = d[k]\n",
    "        d[k] = tmp\n",
    "        for i in range(k+1,n):\n",
    "            xmult = a[d[i],k] / a[d[k],k]\n",
    "            a[d[i],k] = xmult\n",
    "            for j in range(k+1,n):\n",
    "                a[d[i],j] = a[d[i],j] - xmult * a[d[k],j]\n",
    "    \n",
    "    for k in range(0,n):\n",
    "        for i in range(k+1,n):\n",
    "            b[d[i]] = b[d[i]] - a[d[i],k] * b[d[k]]\n",
    "    m = n-1\n",
    "    x[m] = b[d[m]] / a[d[m],m]\n",
    "    for i in range(n-1,-1,-1):\n",
    "        sum = b[d[i]]\n",
    "        for j in range(i+1,n):\n",
    "            sum = sum - a[d[i],j] * x[j]\n",
    "        x[i] = sum / a[d[i],i]\n",
    "    return np.matrix(x).transpose()\n",
    "    pass"
   ]
  },
  {
   "cell_type": "code",
   "execution_count": 20,
   "metadata": {
    "scrolled": true
   },
   "outputs": [
    {
     "name": "stdout",
     "output_type": "stream",
     "text": [
      "[[ 0.21602477]\n",
      " [-0.00791511]\n",
      " [ 0.63524333]\n",
      " [ 0.74617428]]\n"
     ]
    },
    {
     "data": {
      "text/plain": [
       "True"
      ]
     },
     "execution_count": 20,
     "metadata": {},
     "output_type": "execute_result"
    }
   ],
   "source": [
    "A = np.matrix([[0.0001, -5.0300, 5.8090, 7.8320],\n",
    "               [2.2660, 1.9950,  1.2120, 8.0080],\n",
    "               [8.8500, 5.6810,  4.5520, 1.3020],\n",
    "               [6.7750, -2.253,  2.9080, 3.9700]])\n",
    "\n",
    "b = np.matrix([9.5740, 7.2190, 5.7300, 6.2910]).transpose()\n",
    "x1 = np.linalg.solve(A, b)\n",
    "x = pivot_gauss(A, b)\n",
    "print(x)\n",
    "np.allclose(x1, x)"
   ]
  },
  {
   "cell_type": "markdown",
   "metadata": {},
   "source": [
    "### Zadania, c.d.\n",
    "1. Zaimplementować algorytm faktoryzacji LU macierzy\n",
    "2. (*) Zaimplementować funkcję sprawdzającą, czy dana macierz jest symetryczna i dodatnio określona\n",
    "3. Zaimplementować algorytm faktoryzacji Cholesky'ego macierzy"
   ]
  },
  {
   "cell_type": "code",
   "execution_count": 17,
   "metadata": {},
   "outputs": [],
   "source": [
    "def agh_superfast_lu(a: np.matrix) -> Optional[Tuple[np.matrix, np.matrix]]:\n",
    "    \"\"\"Perform LU decomposition of a matrix.\n",
    "    \n",
    "    :param a: _\n",
    "    :return:  _\n",
    "    \"\"\"\n",
    "    pass\n",
    "\n",
    "def agh_superfast_check_spd(a: np.matrix) -> bool:\n",
    "    \"\"\"Check whether a matrix is symmetric and positive-definite (SPD).\n",
    "    \n",
    "    :param a: _\n",
    "    \"\"\"\n",
    "    pass\n",
    "\n",
    "def agh_superfast_cholesky(a: np.matrix) -> Optional[np.matrix]:\n",
    "    \"\"\"Perform a Cholesky decomposition of a matrix.\n",
    "    \n",
    "    :param a: _\n",
    "    :return:  _\n",
    "    \"\"\"\n",
    "    pass"
   ]
  },
  {
   "cell_type": "markdown",
   "metadata": {},
   "source": [
    "### Zadania, opcjonalnie\n",
    "1. zaimplementować metodę Jacobiego (iteracyjne rozwiązywanie układu równań liniowych)\n",
    "2. za pomocą tejże metody rozwiązać powyższy układ równań"
   ]
  },
  {
   "cell_type": "code",
   "execution_count": null,
   "metadata": {},
   "outputs": [],
   "source": []
  }
 ],
 "metadata": {
  "kernelspec": {
   "display_name": "Python 3",
   "language": "python",
   "name": "python3"
  },
  "language_info": {
   "codemirror_mode": {
    "name": "ipython",
    "version": 3
   },
   "file_extension": ".py",
   "mimetype": "text/x-python",
   "name": "python",
   "nbconvert_exporter": "python",
   "pygments_lexer": "ipython3",
   "version": "3.6.5"
  }
 },
 "nbformat": 4,
 "nbformat_minor": 2
}
