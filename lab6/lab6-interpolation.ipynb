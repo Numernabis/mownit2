{
 "cells": [
  {
   "cell_type": "markdown",
   "metadata": {},
   "source": [
    "## Laboratorium 6"
   ]
  },
  {
   "cell_type": "markdown",
   "metadata": {},
   "source": [
    "### 0. Przykładowe dane "
   ]
  },
  {
   "cell_type": "code",
   "execution_count": 26,
   "metadata": {},
   "outputs": [],
   "source": [
    "using Plots\n",
    "using Polynomials\n",
    "using DataFrames\n",
    "using Statistics\n",
    "using Interpolations"
   ]
  },
  {
   "cell_type": "code",
   "execution_count": 4,
   "metadata": {},
   "outputs": [
    {
     "data": {
      "text/plain": [
       "1.0:0.02:10.0"
      ]
     },
     "execution_count": 4,
     "metadata": {},
     "output_type": "execute_result"
    }
   ],
   "source": [
    "# wylosowanie węzłów interpolacji\n",
    "xs = 1:1:10\n",
    "A = [rand() for x in xs]\n",
    "# gęste punkty do rysowania wykresów funkcji interpolujacych\n",
    "xsf = 1:0.02:10"
   ]
  },
  {
   "cell_type": "code",
   "execution_count": 5,
   "metadata": {},
   "outputs": [],
   "source": [
    "p0 = scatter(xs, A, label=\"data points\")\n",
    "savefig(p0, \"img/plot0.pdf\")"
   ]
  },
  {
   "cell_type": "markdown",
   "metadata": {},
   "source": [
    "### 1. Wielomian Interpolacyjny Lagrange’a\n",
    "\n",
    "$L_k(x) = \\prod_{i=0, i \\neq k}^{n} \\frac{x - x_i}{x_k - x_i} \\qquad\n",
    "P_n(x) = \\sum_{k=0}^{n} L_k(x)f(x_k) $"
   ]
  },
  {
   "cell_type": "code",
   "execution_count": 6,
   "metadata": {},
   "outputs": [
    {
     "data": {
      "text/plain": [
       "lagrange_interpolation (generic function with 1 method)"
      ]
     },
     "execution_count": 6,
     "metadata": {},
     "output_type": "execute_result"
    }
   ],
   "source": [
    "function lagrange_interpolation(xs, A)   \n",
    "    n = size(A,1)\n",
    "    P = Poly([0])\n",
    "    for k = 1:n\n",
    "        l = Poly([1.0])\n",
    "        for i = 1:n\n",
    "            if i != k\n",
    "                l = l * poly([xs[i]]) / (xs[k] - xs[i])\n",
    "            end\n",
    "        end            \n",
    "        P += (l * A[k])\n",
    "    end\n",
    "    return P\n",
    "end"
   ]
  },
  {
   "cell_type": "code",
   "execution_count": 12,
   "metadata": {},
   "outputs": [],
   "source": [
    "fit1 = lagrange_interpolation(xs, A)\n",
    "B1 = [fit1(x) for x in xsf]\n",
    "p1 = scatter(xs, A, label=\"data points\")\n",
    "plot!(xsf, B1, label=\"lagrange interpolation\")\n",
    "savefig(p1, \"img/plot1.pdf\")"
   ]
  },
  {
   "cell_type": "markdown",
   "metadata": {},
   "source": [
    "### 2. Metoda Newtona (ilorazów róznicowych)\n",
    "$P_n(x) = a_0 + a_1(x - x_0) + a_2(x - x_0)(x - x_1) + ... + a_n(x - x_0) \\cdots (x - x_{n-1})$"
   ]
  },
  {
   "cell_type": "code",
   "execution_count": 8,
   "metadata": {},
   "outputs": [
    {
     "data": {
      "text/plain": [
       "newton_interpolation (generic function with 1 method)"
      ]
     },
     "execution_count": 8,
     "metadata": {},
     "output_type": "execute_result"
    }
   ],
   "source": [
    "function newton_interpolation(xs, A, n)\n",
    "    if n == 1\n",
    "        Poly(float(A[1]))\n",
    "    else\n",
    "        prev = newton_interpolation(xs, A, n-1)\n",
    "        p = A[n] - polyval(prev, xs[n])\n",
    "        q = 1\n",
    "        for i = 1:n-1\n",
    "            q = q * (xs[n] - xs[i])\n",
    "        end        \n",
    "        poly([xs[i] for i in 1:n-1]) * (p / q) + prev\n",
    "    end\n",
    "end"
   ]
  },
  {
   "cell_type": "code",
   "execution_count": 13,
   "metadata": {},
   "outputs": [],
   "source": [
    "fit2 = newton_interpolation(xs, A, size(A,1))\n",
    "B2 = [fit2(x) for x in xsf]\n",
    "p2 = scatter(xs, A, label=\"data points\")\n",
    "plot!(xsf, B2, color=:orange, label=\"newton interpolation\")\n",
    "savefig(p2, \"img/plot2.pdf\")"
   ]
  },
  {
   "cell_type": "markdown",
   "metadata": {},
   "source": [
    "### 3. Pakiet Polynomials "
   ]
  },
  {
   "cell_type": "code",
   "execution_count": 14,
   "metadata": {},
   "outputs": [],
   "source": [
    "# interpolacja wielomianowa w pakiecie Polynomials\n",
    "fit3 = polyfit(xs, A)\n",
    "B3 = [fit3(x) for x in xsf]\n",
    "p3 = scatter(xs, A, label=\"data points\")\n",
    "plot!(xsf, B1, color=:red, label=\"lagrange interpolation\")\n",
    "plot!(xsf, B2, color=:orange, label=\"newton interpolation\")\n",
    "plot!(xsf, B3, color=:green, label=\"polyfit interpolation\")\n",
    "savefig(p3, \"img/plot3.pdf\")"
   ]
  },
  {
   "cell_type": "markdown",
   "metadata": {},
   "source": [
    "Niezależnie od zastosowanej metody, dla danych węzłów interpolacji wyznaczany jest ten sam wielomian.\n",
    "Dlaczego? Otóż dla n+1 punktów istnieje _dokładnie_ jeden wielomian n-tego stopnia interpolujący te punkty."
   ]
  },
  {
   "cell_type": "markdown",
   "metadata": {},
   "source": [
    "### 4. Porównanie metod"
   ]
  },
  {
   "cell_type": "code",
   "execution_count": 36,
   "metadata": {},
   "outputs": [],
   "source": [
    "df = DataFrame(size = Int64[], method = String[], time = Float64[])\n",
    "\n",
    "for r in 100:50:500\n",
    "    x = 0:1:r\n",
    "    for i in 1:10\n",
    "        y = rand(Int, r+1)\n",
    "        push!(df, [r, \"lagrange\",@elapsed lagrange_interpolation(x, y)])        \n",
    "        push!(df, [r, \"newton\",  @elapsed newton_interpolation(x, y, r)])\n",
    "        push!(df, [r, \"polyfit\", @elapsed polyfit(x, y)])\n",
    "    end\n",
    "end"
   ]
  },
  {
   "cell_type": "code",
   "execution_count": 37,
   "metadata": {},
   "outputs": [
    {
     "data": {
      "text/html": [
       "<table class=\"data-frame\"><thead><tr><th></th><th>size</th><th>method</th><th>time_mean</th><th>time_std</th></tr><tr><th></th><th>Int64</th><th>String</th><th>Float64</th><th>Float64</th></tr></thead><tbody><tr><th>1</th><td>100</td><td>lagrange</td><td>0.0949119</td><td>0.0485013</td></tr><tr><th>2</th><td>100</td><td>newton</td><td>0.00892413</td><td>0.0265571</td></tr><tr><th>3</th><td>100</td><td>polyfit</td><td>0.0194624</td><td>0.0376842</td></tr><tr><th>4</th><td>150</td><td>lagrange</td><td>0.19618</td><td>0.00806947</td></tr><tr><th>5</th><td>150</td><td>newton</td><td>0.00121963</td><td>5.79717e-5</td></tr><tr><th>6</th><td>150</td><td>polyfit</td><td>0.00326138</td><td>0.0010196</td></tr><tr><th>7</th><td>200</td><td>lagrange</td><td>0.231628</td><td>0.0265957</td></tr><tr><th>8</th><td>200</td><td>newton</td><td>0.00274612</td><td>0.000646577</td></tr><tr><th>9</th><td>200</td><td>polyfit</td><td>0.0198509</td><td>0.0169455</td></tr><tr><th>10</th><td>250</td><td>lagrange</td><td>0.305757</td><td>0.0236674</td></tr><tr><th>11</th><td>250</td><td>newton</td><td>0.0047837</td><td>0.000229149</td></tr><tr><th>12</th><td>250</td><td>polyfit</td><td>0.0178421</td><td>0.0196968</td></tr><tr><th>13</th><td>300</td><td>lagrange</td><td>0.473756</td><td>0.0380959</td></tr><tr><th>14</th><td>300</td><td>newton</td><td>0.00805899</td><td>0.000244401</td></tr><tr><th>15</th><td>300</td><td>polyfit</td><td>0.0243588</td><td>0.0104283</td></tr><tr><th>16</th><td>350</td><td>lagrange</td><td>0.651418</td><td>0.0625443</td></tr><tr><th>17</th><td>350</td><td>newton</td><td>0.0125176</td><td>0.000988375</td></tr><tr><th>18</th><td>350</td><td>polyfit</td><td>0.0299098</td><td>0.0184574</td></tr><tr><th>19</th><td>400</td><td>lagrange</td><td>0.883433</td><td>0.0801364</td></tr><tr><th>20</th><td>400</td><td>newton</td><td>0.0186876</td><td>0.00131411</td></tr><tr><th>21</th><td>400</td><td>polyfit</td><td>0.0335584</td><td>0.0238663</td></tr><tr><th>22</th><td>450</td><td>lagrange</td><td>1.04178</td><td>0.0935304</td></tr><tr><th>23</th><td>450</td><td>newton</td><td>0.0262722</td><td>0.00167629</td></tr><tr><th>24</th><td>450</td><td>polyfit</td><td>0.0330124</td><td>0.0272311</td></tr><tr><th>25</th><td>500</td><td>lagrange</td><td>1.24532</td><td>0.0466396</td></tr><tr><th>26</th><td>500</td><td>newton</td><td>0.0348628</td><td>0.00246794</td></tr><tr><th>27</th><td>500</td><td>polyfit</td><td>0.039412</td><td>0.0189108</td></tr></tbody></table>"
      ],
      "text/plain": [
       "27×4 DataFrame\n",
       "│ Row │ size  │ method   │ time_mean  │ time_std    │\n",
       "│     │ \u001b[90mInt64\u001b[39m │ \u001b[90mString\u001b[39m   │ \u001b[90mFloat64\u001b[39m    │ \u001b[90mFloat64\u001b[39m     │\n",
       "├─────┼───────┼──────────┼────────────┼─────────────┤\n",
       "│ 1   │ 100   │ lagrange │ 0.0949119  │ 0.0485013   │\n",
       "│ 2   │ 100   │ newton   │ 0.00892413 │ 0.0265571   │\n",
       "│ 3   │ 100   │ polyfit  │ 0.0194624  │ 0.0376842   │\n",
       "│ 4   │ 150   │ lagrange │ 0.19618    │ 0.00806947  │\n",
       "│ 5   │ 150   │ newton   │ 0.00121963 │ 5.79717e-5  │\n",
       "│ 6   │ 150   │ polyfit  │ 0.00326138 │ 0.0010196   │\n",
       "│ 7   │ 200   │ lagrange │ 0.231628   │ 0.0265957   │\n",
       "│ 8   │ 200   │ newton   │ 0.00274612 │ 0.000646577 │\n",
       "│ 9   │ 200   │ polyfit  │ 0.0198509  │ 0.0169455   │\n",
       "│ 10  │ 250   │ lagrange │ 0.305757   │ 0.0236674   │\n",
       "⋮\n",
       "│ 17  │ 350   │ newton   │ 0.0125176  │ 0.000988375 │\n",
       "│ 18  │ 350   │ polyfit  │ 0.0299098  │ 0.0184574   │\n",
       "│ 19  │ 400   │ lagrange │ 0.883433   │ 0.0801364   │\n",
       "│ 20  │ 400   │ newton   │ 0.0186876  │ 0.00131411  │\n",
       "│ 21  │ 400   │ polyfit  │ 0.0335584  │ 0.0238663   │\n",
       "│ 22  │ 450   │ lagrange │ 1.04178    │ 0.0935304   │\n",
       "│ 23  │ 450   │ newton   │ 0.0262722  │ 0.00167629  │\n",
       "│ 24  │ 450   │ polyfit  │ 0.0330124  │ 0.0272311   │\n",
       "│ 25  │ 500   │ lagrange │ 1.24532    │ 0.0466396   │\n",
       "│ 26  │ 500   │ newton   │ 0.0348628  │ 0.00246794  │\n",
       "│ 27  │ 500   │ polyfit  │ 0.039412   │ 0.0189108   │"
      ]
     },
     "execution_count": 37,
     "metadata": {},
     "output_type": "execute_result"
    }
   ],
   "source": [
    "dfm = by(df, [1,2]) do grouped\n",
    "    DataFrame(time_mean = mean(grouped[3]), time_std = std(grouped[3]))\n",
    "end"
   ]
  },
  {
   "cell_type": "code",
   "execution_count": 38,
   "metadata": {},
   "outputs": [],
   "source": [
    "p4 = scatter(dfm[:size], dfm[:time_mean], group = dfm[:method],\n",
    "    yerr = dfm[:time_std], xlabel = \"size\", ylabel = \"time mean [s]\",\n",
    "    dpi = 120, size = (600,500), legend = :topleft)\n",
    "savefig(p4, \"img/plot4.pdf\")"
   ]
  },
  {
   "cell_type": "markdown",
   "metadata": {},
   "source": [
    "### 5. Interpolacja funkcjami sklejanymi "
   ]
  },
  {
   "cell_type": "code",
   "execution_count": 31,
   "metadata": {},
   "outputs": [],
   "source": [
    "#interpolacja szescienna \n",
    "cubic = CubicSplineInterpolation(xs, A)\n",
    "#interpolacja BSpline'ami\n",
    "bspline = interpolate(A, BSpline(Linear()))\n",
    "\n",
    "B5 = [cubic(x) for x in xsf]\n",
    "B5b = [bspline(x) for x in xsf]\n",
    "p5 = scatter(xs, A, label=\"data points\", legend=:topright)\n",
    "plot!(xsf, B5, color=:violet, label=\"cubic spline interpolation\")\n",
    "plot!(xsf, B5b, color=:orange, label=\"bspline linear interpolation\")\n",
    "plot!(xsf, B2, color=:grey, label=\"newton interpolation\")\n",
    "savefig(p5, \"img/plot5.pdf\")"
   ]
  },
  {
   "cell_type": "markdown",
   "metadata": {},
   "source": [
    "### 6. Efekt Rungego "
   ]
  },
  {
   "cell_type": "code",
   "execution_count": 35,
   "metadata": {},
   "outputs": [
    {
     "data": {
      "image/png": "[encoded data removed]"
     },
     "execution_count": 35,
     "metadata": {},
     "output_type": "execute_result"
    }
   ],
   "source": [
    "plot!(dpi = 120, size = (600,400), fmt = :png)"
   ]
  },
  {
   "cell_type": "markdown",
   "metadata": {},
   "source": []
  }
 ],
 "metadata": {
  "kernelspec": {
   "display_name": "Julia 1.0.0",
   "language": "julia",
   "name": "julia-1.0"
  },
  "language_info": {
   "file_extension": ".jl",
   "mimetype": "application/julia",
   "name": "julia",
   "version": "1.0.0"
  }
 },
 "nbformat": 4,
 "nbformat_minor": 2
}
